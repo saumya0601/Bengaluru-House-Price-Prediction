{
 "cells": [
  {
   "cell_type": "markdown",
   "id": "baec5adc",
   "metadata": {},
   "source": [
    "# Bengaluru House Price Prediction - Supervised Regression Problem"
   ]
  },
  {
   "cell_type": "markdown",
   "id": "31bb3cd1",
   "metadata": {},
   "source": [
    "## Model Building"
   ]
  },
  {
   "cell_type": "markdown",
   "id": "f730a1a7",
   "metadata": {},
   "source": [
    "### Split dataset in train and test"
   ]
  },
  {
   "cell_type": "code",
   "execution_count": 1,
   "id": "a62303aa",
   "metadata": {},
   "outputs": [],
   "source": [
    "import numpy as np\n",
    "import pandas as pd\n",
    "import matplotlib.pyplot as plt\n",
    "import seaborn as sns"
   ]
  },
  {
   "cell_type": "code",
   "execution_count": 2,
   "id": "f21b4823",
   "metadata": {},
   "outputs": [
    {
     "data": {
      "text/html": [
       "<div>\n",
       "<style scoped>\n",
       "    .dataframe tbody tr th:only-of-type {\n",
       "        vertical-align: middle;\n",
       "    }\n",
       "\n",
       "    .dataframe tbody tr th {\n",
       "        vertical-align: top;\n",
       "    }\n",
       "\n",
       "    .dataframe thead th {\n",
       "        text-align: right;\n",
       "    }\n",
       "</style>\n",
       "<table border=\"1\" class=\"dataframe\">\n",
       "  <thead>\n",
       "    <tr style=\"text-align: right;\">\n",
       "      <th></th>\n",
       "      <th>bath</th>\n",
       "      <th>balcony</th>\n",
       "      <th>price</th>\n",
       "      <th>total_sqft_int</th>\n",
       "      <th>bhk</th>\n",
       "      <th>price_per_sqft</th>\n",
       "      <th>area_typeSuper built-up Area</th>\n",
       "      <th>area_typeBuilt-up Area</th>\n",
       "      <th>area_typePlot Area</th>\n",
       "      <th>availability_ready_to_move</th>\n",
       "      <th>...</th>\n",
       "      <th>location_Kalena Agrahara</th>\n",
       "      <th>location_Horamavu Agara</th>\n",
       "      <th>location_Vidyaranyapura</th>\n",
       "      <th>location_Hosur Road</th>\n",
       "      <th>location_Hebbal Kempapura</th>\n",
       "      <th>location_BTM 2nd Stage</th>\n",
       "      <th>location_Domlur</th>\n",
       "      <th>location_Horamavu Banaswadi</th>\n",
       "      <th>location_Tumkur Road</th>\n",
       "      <th>location_Mahadevpura</th>\n",
       "    </tr>\n",
       "  </thead>\n",
       "  <tbody>\n",
       "    <tr>\n",
       "      <th>0</th>\n",
       "      <td>3.0</td>\n",
       "      <td>2.0</td>\n",
       "      <td>150.00</td>\n",
       "      <td>1672.0</td>\n",
       "      <td>3</td>\n",
       "      <td>8971.291866</td>\n",
       "      <td>0</td>\n",
       "      <td>0</td>\n",
       "      <td>0</td>\n",
       "      <td>1</td>\n",
       "      <td>...</td>\n",
       "      <td>0</td>\n",
       "      <td>0</td>\n",
       "      <td>0</td>\n",
       "      <td>0</td>\n",
       "      <td>0</td>\n",
       "      <td>0</td>\n",
       "      <td>0</td>\n",
       "      <td>0</td>\n",
       "      <td>0</td>\n",
       "      <td>0</td>\n",
       "    </tr>\n",
       "    <tr>\n",
       "      <th>1</th>\n",
       "      <td>3.0</td>\n",
       "      <td>3.0</td>\n",
       "      <td>149.00</td>\n",
       "      <td>1750.0</td>\n",
       "      <td>3</td>\n",
       "      <td>8514.285714</td>\n",
       "      <td>0</td>\n",
       "      <td>0</td>\n",
       "      <td>0</td>\n",
       "      <td>1</td>\n",
       "      <td>...</td>\n",
       "      <td>0</td>\n",
       "      <td>0</td>\n",
       "      <td>0</td>\n",
       "      <td>0</td>\n",
       "      <td>0</td>\n",
       "      <td>0</td>\n",
       "      <td>0</td>\n",
       "      <td>0</td>\n",
       "      <td>0</td>\n",
       "      <td>0</td>\n",
       "    </tr>\n",
       "    <tr>\n",
       "      <th>2</th>\n",
       "      <td>3.0</td>\n",
       "      <td>2.0</td>\n",
       "      <td>150.00</td>\n",
       "      <td>1750.0</td>\n",
       "      <td>3</td>\n",
       "      <td>8571.428571</td>\n",
       "      <td>0</td>\n",
       "      <td>0</td>\n",
       "      <td>0</td>\n",
       "      <td>1</td>\n",
       "      <td>...</td>\n",
       "      <td>0</td>\n",
       "      <td>0</td>\n",
       "      <td>0</td>\n",
       "      <td>0</td>\n",
       "      <td>0</td>\n",
       "      <td>0</td>\n",
       "      <td>0</td>\n",
       "      <td>0</td>\n",
       "      <td>0</td>\n",
       "      <td>0</td>\n",
       "    </tr>\n",
       "    <tr>\n",
       "      <th>3</th>\n",
       "      <td>2.0</td>\n",
       "      <td>2.0</td>\n",
       "      <td>40.00</td>\n",
       "      <td>1250.0</td>\n",
       "      <td>2</td>\n",
       "      <td>3200.000000</td>\n",
       "      <td>0</td>\n",
       "      <td>0</td>\n",
       "      <td>0</td>\n",
       "      <td>1</td>\n",
       "      <td>...</td>\n",
       "      <td>0</td>\n",
       "      <td>0</td>\n",
       "      <td>0</td>\n",
       "      <td>0</td>\n",
       "      <td>0</td>\n",
       "      <td>0</td>\n",
       "      <td>0</td>\n",
       "      <td>0</td>\n",
       "      <td>0</td>\n",
       "      <td>0</td>\n",
       "    </tr>\n",
       "    <tr>\n",
       "      <th>4</th>\n",
       "      <td>2.0</td>\n",
       "      <td>2.0</td>\n",
       "      <td>83.00</td>\n",
       "      <td>1200.0</td>\n",
       "      <td>2</td>\n",
       "      <td>6916.666667</td>\n",
       "      <td>0</td>\n",
       "      <td>0</td>\n",
       "      <td>0</td>\n",
       "      <td>1</td>\n",
       "      <td>...</td>\n",
       "      <td>0</td>\n",
       "      <td>0</td>\n",
       "      <td>0</td>\n",
       "      <td>0</td>\n",
       "      <td>0</td>\n",
       "      <td>0</td>\n",
       "      <td>0</td>\n",
       "      <td>0</td>\n",
       "      <td>0</td>\n",
       "      <td>0</td>\n",
       "    </tr>\n",
       "    <tr>\n",
       "      <th>...</th>\n",
       "      <td>...</td>\n",
       "      <td>...</td>\n",
       "      <td>...</td>\n",
       "      <td>...</td>\n",
       "      <td>...</td>\n",
       "      <td>...</td>\n",
       "      <td>...</td>\n",
       "      <td>...</td>\n",
       "      <td>...</td>\n",
       "      <td>...</td>\n",
       "      <td>...</td>\n",
       "      <td>...</td>\n",
       "      <td>...</td>\n",
       "      <td>...</td>\n",
       "      <td>...</td>\n",
       "      <td>...</td>\n",
       "      <td>...</td>\n",
       "      <td>...</td>\n",
       "      <td>...</td>\n",
       "      <td>...</td>\n",
       "      <td>...</td>\n",
       "    </tr>\n",
       "    <tr>\n",
       "      <th>7115</th>\n",
       "      <td>3.0</td>\n",
       "      <td>2.0</td>\n",
       "      <td>325.00</td>\n",
       "      <td>2900.0</td>\n",
       "      <td>3</td>\n",
       "      <td>11206.896552</td>\n",
       "      <td>0</td>\n",
       "      <td>0</td>\n",
       "      <td>0</td>\n",
       "      <td>1</td>\n",
       "      <td>...</td>\n",
       "      <td>0</td>\n",
       "      <td>0</td>\n",
       "      <td>0</td>\n",
       "      <td>0</td>\n",
       "      <td>0</td>\n",
       "      <td>0</td>\n",
       "      <td>0</td>\n",
       "      <td>0</td>\n",
       "      <td>0</td>\n",
       "      <td>0</td>\n",
       "    </tr>\n",
       "    <tr>\n",
       "      <th>7116</th>\n",
       "      <td>3.0</td>\n",
       "      <td>1.0</td>\n",
       "      <td>84.83</td>\n",
       "      <td>1780.0</td>\n",
       "      <td>3</td>\n",
       "      <td>4765.730337</td>\n",
       "      <td>0</td>\n",
       "      <td>0</td>\n",
       "      <td>0</td>\n",
       "      <td>0</td>\n",
       "      <td>...</td>\n",
       "      <td>0</td>\n",
       "      <td>0</td>\n",
       "      <td>0</td>\n",
       "      <td>0</td>\n",
       "      <td>0</td>\n",
       "      <td>0</td>\n",
       "      <td>0</td>\n",
       "      <td>0</td>\n",
       "      <td>0</td>\n",
       "      <td>0</td>\n",
       "    </tr>\n",
       "    <tr>\n",
       "      <th>7117</th>\n",
       "      <td>2.0</td>\n",
       "      <td>1.0</td>\n",
       "      <td>48.00</td>\n",
       "      <td>880.0</td>\n",
       "      <td>2</td>\n",
       "      <td>5454.545455</td>\n",
       "      <td>0</td>\n",
       "      <td>0</td>\n",
       "      <td>0</td>\n",
       "      <td>1</td>\n",
       "      <td>...</td>\n",
       "      <td>0</td>\n",
       "      <td>0</td>\n",
       "      <td>0</td>\n",
       "      <td>0</td>\n",
       "      <td>0</td>\n",
       "      <td>0</td>\n",
       "      <td>0</td>\n",
       "      <td>0</td>\n",
       "      <td>0</td>\n",
       "      <td>0</td>\n",
       "    </tr>\n",
       "    <tr>\n",
       "      <th>7118</th>\n",
       "      <td>2.0</td>\n",
       "      <td>1.0</td>\n",
       "      <td>55.00</td>\n",
       "      <td>1000.0</td>\n",
       "      <td>2</td>\n",
       "      <td>5500.000000</td>\n",
       "      <td>0</td>\n",
       "      <td>0</td>\n",
       "      <td>0</td>\n",
       "      <td>0</td>\n",
       "      <td>...</td>\n",
       "      <td>0</td>\n",
       "      <td>0</td>\n",
       "      <td>0</td>\n",
       "      <td>0</td>\n",
       "      <td>0</td>\n",
       "      <td>0</td>\n",
       "      <td>0</td>\n",
       "      <td>0</td>\n",
       "      <td>0</td>\n",
       "      <td>0</td>\n",
       "    </tr>\n",
       "    <tr>\n",
       "      <th>7119</th>\n",
       "      <td>2.0</td>\n",
       "      <td>1.0</td>\n",
       "      <td>78.00</td>\n",
       "      <td>1400.0</td>\n",
       "      <td>3</td>\n",
       "      <td>5571.428571</td>\n",
       "      <td>0</td>\n",
       "      <td>0</td>\n",
       "      <td>0</td>\n",
       "      <td>0</td>\n",
       "      <td>...</td>\n",
       "      <td>0</td>\n",
       "      <td>0</td>\n",
       "      <td>0</td>\n",
       "      <td>0</td>\n",
       "      <td>0</td>\n",
       "      <td>0</td>\n",
       "      <td>0</td>\n",
       "      <td>0</td>\n",
       "      <td>0</td>\n",
       "      <td>0</td>\n",
       "    </tr>\n",
       "  </tbody>\n",
       "</table>\n",
       "<p>7120 rows × 108 columns</p>\n",
       "</div>"
      ],
      "text/plain": [
       "      bath  balcony   price  total_sqft_int  bhk  price_per_sqft  \\\n",
       "0      3.0      2.0  150.00          1672.0    3     8971.291866   \n",
       "1      3.0      3.0  149.00          1750.0    3     8514.285714   \n",
       "2      3.0      2.0  150.00          1750.0    3     8571.428571   \n",
       "3      2.0      2.0   40.00          1250.0    2     3200.000000   \n",
       "4      2.0      2.0   83.00          1200.0    2     6916.666667   \n",
       "...    ...      ...     ...             ...  ...             ...   \n",
       "7115   3.0      2.0  325.00          2900.0    3    11206.896552   \n",
       "7116   3.0      1.0   84.83          1780.0    3     4765.730337   \n",
       "7117   2.0      1.0   48.00           880.0    2     5454.545455   \n",
       "7118   2.0      1.0   55.00          1000.0    2     5500.000000   \n",
       "7119   2.0      1.0   78.00          1400.0    3     5571.428571   \n",
       "\n",
       "      area_typeSuper built-up Area  area_typeBuilt-up Area  \\\n",
       "0                                0                       0   \n",
       "1                                0                       0   \n",
       "2                                0                       0   \n",
       "3                                0                       0   \n",
       "4                                0                       0   \n",
       "...                            ...                     ...   \n",
       "7115                             0                       0   \n",
       "7116                             0                       0   \n",
       "7117                             0                       0   \n",
       "7118                             0                       0   \n",
       "7119                             0                       0   \n",
       "\n",
       "      area_typePlot Area  availability_ready_to_move  ...  \\\n",
       "0                      0                           1  ...   \n",
       "1                      0                           1  ...   \n",
       "2                      0                           1  ...   \n",
       "3                      0                           1  ...   \n",
       "4                      0                           1  ...   \n",
       "...                  ...                         ...  ...   \n",
       "7115                   0                           1  ...   \n",
       "7116                   0                           0  ...   \n",
       "7117                   0                           1  ...   \n",
       "7118                   0                           0  ...   \n",
       "7119                   0                           0  ...   \n",
       "\n",
       "      location_Kalena Agrahara  location_Horamavu Agara  \\\n",
       "0                            0                        0   \n",
       "1                            0                        0   \n",
       "2                            0                        0   \n",
       "3                            0                        0   \n",
       "4                            0                        0   \n",
       "...                        ...                      ...   \n",
       "7115                         0                        0   \n",
       "7116                         0                        0   \n",
       "7117                         0                        0   \n",
       "7118                         0                        0   \n",
       "7119                         0                        0   \n",
       "\n",
       "      location_Vidyaranyapura  location_Hosur Road  location_Hebbal Kempapura  \\\n",
       "0                           0                    0                          0   \n",
       "1                           0                    0                          0   \n",
       "2                           0                    0                          0   \n",
       "3                           0                    0                          0   \n",
       "4                           0                    0                          0   \n",
       "...                       ...                  ...                        ...   \n",
       "7115                        0                    0                          0   \n",
       "7116                        0                    0                          0   \n",
       "7117                        0                    0                          0   \n",
       "7118                        0                    0                          0   \n",
       "7119                        0                    0                          0   \n",
       "\n",
       "      location_BTM 2nd Stage  location_Domlur  location_Horamavu Banaswadi  \\\n",
       "0                          0                0                            0   \n",
       "1                          0                0                            0   \n",
       "2                          0                0                            0   \n",
       "3                          0                0                            0   \n",
       "4                          0                0                            0   \n",
       "...                      ...              ...                          ...   \n",
       "7115                       0                0                            0   \n",
       "7116                       0                0                            0   \n",
       "7117                       0                0                            0   \n",
       "7118                       0                0                            0   \n",
       "7119                       0                0                            0   \n",
       "\n",
       "      location_Tumkur Road  location_Mahadevpura  \n",
       "0                        0                     0  \n",
       "1                        0                     0  \n",
       "2                        0                     0  \n",
       "3                        0                     0  \n",
       "4                        0                     0  \n",
       "...                    ...                   ...  \n",
       "7115                     0                     0  \n",
       "7116                     0                     0  \n",
       "7117                     0                     0  \n",
       "7118                     0                     0  \n",
       "7119                     0                     0  \n",
       "\n",
       "[7120 rows x 108 columns]"
      ]
     },
     "execution_count": 2,
     "metadata": {},
     "output_type": "execute_result"
    }
   ],
   "source": [
    "df = pd.read_csv(\"ohe_data_reduce_cat_class.csv\")\n",
    "df"
   ]
  },
  {
   "cell_type": "code",
   "execution_count": 3,
   "id": "c220a5a5",
   "metadata": {},
   "outputs": [
    {
     "name": "stdout",
     "output_type": "stream",
     "text": [
      "Shape of X =  (7120, 107)\n",
      "Shape of y =  (7120,)\n"
     ]
    }
   ],
   "source": [
    "X = df.drop(\"price\", axis=1)\n",
    "y = df['price']\n",
    "print(\"Shape of X = \", X.shape)\n",
    "print(\"Shape of y = \", y.shape)"
   ]
  },
  {
   "cell_type": "code",
   "execution_count": 4,
   "id": "a1622828",
   "metadata": {},
   "outputs": [
    {
     "name": "stdout",
     "output_type": "stream",
     "text": [
      "Shape of X_train =  (5696, 107)\n",
      "Shape of X_test =  (1424, 107)\n",
      "Shape of y_train =  (5696,)\n",
      "Shape of y_test =  (1424,)\n"
     ]
    }
   ],
   "source": [
    "from sklearn.model_selection import train_test_split\n",
    "X_train, X_test, y_train, y_test = train_test_split(X,y, test_size = 0.2, random_state = 51)\n",
    "print('Shape of X_train = ', X_train.shape)\n",
    "print('Shape of X_test = ', X_test.shape)\n",
    "print('Shape of y_train = ', y_train.shape)\n",
    "print('Shape of y_test = ', y_test.shape)"
   ]
  },
  {
   "cell_type": "markdown",
   "id": "d40f8fce",
   "metadata": {},
   "source": [
    "### Feature Scaling"
   ]
  },
  {
   "cell_type": "code",
   "execution_count": 5,
   "id": "a34de421",
   "metadata": {},
   "outputs": [],
   "source": [
    "from sklearn.preprocessing import StandardScaler\n",
    "sc = StandardScaler()\n",
    "sc.fit(X_train)\n",
    "X_train = sc.transform(X_train)\n",
    "X_test = sc.transform(X_test)"
   ]
  },
  {
   "cell_type": "markdown",
   "id": "cba030e6",
   "metadata": {},
   "source": [
    "## Machine Learning Model Training"
   ]
  },
  {
   "cell_type": "markdown",
   "id": "4ce7216d",
   "metadata": {},
   "source": [
    "### Linear regression"
   ]
  },
  {
   "cell_type": "code",
   "execution_count": 6,
   "id": "537c4ab4",
   "metadata": {},
   "outputs": [],
   "source": [
    "from sklearn.linear_model import LinearRegression\n",
    "from sklearn.linear_model import Lasso\n",
    "from sklearn.linear_model import Ridge\n",
    "from sklearn.metrics import mean_squared_error\n",
    "\n",
    "lr = LinearRegression()\n",
    "lr_lasso = Lasso()\n",
    "lr_ridge = Ridge()"
   ]
  },
  {
   "cell_type": "code",
   "execution_count": 7,
   "id": "82ff6563",
   "metadata": {},
   "outputs": [],
   "source": [
    "def rmse(y_test, y_pred):\n",
    "    return np.sqrt(mean_squared_error(y_test, y_pred))"
   ]
  },
  {
   "cell_type": "code",
   "execution_count": 8,
   "id": "954ea6a2",
   "metadata": {},
   "outputs": [
    {
     "data": {
      "text/plain": [
       "(0.7918162437298752, 64.67629458509695)"
      ]
     },
     "execution_count": 8,
     "metadata": {},
     "output_type": "execute_result"
    }
   ],
   "source": [
    "lr.fit(X_train, y_train)\n",
    "lr_score = lr.score(X_test, y_test)\n",
    "lr_rmse = rmse(y_test, lr.predict(X_test))\n",
    "lr_score, lr_rmse"
   ]
  },
  {
   "cell_type": "code",
   "execution_count": 9,
   "id": "9af44969",
   "metadata": {},
   "outputs": [
    {
     "data": {
      "text/plain": [
       "(0.8038760090599336, 62.77505059562723)"
      ]
     },
     "execution_count": 9,
     "metadata": {},
     "output_type": "execute_result"
    }
   ],
   "source": [
    "# Lasso\n",
    "lr_lasso.fit(X_train, y_train)\n",
    "lr_lasso_score = lr_lasso.score(X_test, y_test)\n",
    "lr_lasso_rmse = rmse(y_test, lr_lasso.predict(X_test))\n",
    "lr_lasso_score, lr_lasso_rmse"
   ]
  },
  {
   "cell_type": "markdown",
   "id": "2c19fbcb",
   "metadata": {},
   "source": [
    "### Support Vector Machine"
   ]
  },
  {
   "cell_type": "code",
   "execution_count": 10,
   "id": "61f6d18a",
   "metadata": {},
   "outputs": [
    {
     "data": {
      "text/plain": [
       "(0.2161021361572849, 125.50223235155066)"
      ]
     },
     "execution_count": 10,
     "metadata": {},
     "output_type": "execute_result"
    }
   ],
   "source": [
    "from sklearn.svm import SVR\n",
    "svr = SVR()\n",
    "svr.fit(X_train, y_train)\n",
    "svr_score = svr.score(X_test, y_test)\n",
    "svr_rmse = rmse(y_test, svr.predict(X_test))\n",
    "svr_score, svr_rmse"
   ]
  },
  {
   "cell_type": "markdown",
   "id": "81531aa9",
   "metadata": {},
   "source": [
    "### Random Forest Regressor"
   ]
  },
  {
   "cell_type": "code",
   "execution_count": 11,
   "id": "a87b6113",
   "metadata": {},
   "outputs": [
    {
     "data": {
      "text/plain": [
       "(0.8881319390068746, 47.41052512077909)"
      ]
     },
     "execution_count": 11,
     "metadata": {},
     "output_type": "execute_result"
    }
   ],
   "source": [
    "from sklearn.ensemble import RandomForestRegressor\n",
    "rfr = RandomForestRegressor()\n",
    "rfr.fit(X_train, y_train)\n",
    "rfr_score = rfr.score(X_test, y_test)\n",
    "rfr_rmse = rmse(y_test, rfr.predict(X_test))\n",
    "rfr_score, rfr_rmse"
   ]
  },
  {
   "cell_type": "markdown",
   "id": "cff83dde",
   "metadata": {},
   "source": [
    "### XGBoost"
   ]
  },
  {
   "cell_type": "code",
   "execution_count": 14,
   "id": "b0615e01",
   "metadata": {},
   "outputs": [
    {
     "data": {
      "text/plain": [
       "(0.8742964229428543, 50.256880560528465)"
      ]
     },
     "execution_count": 14,
     "metadata": {},
     "output_type": "execute_result"
    }
   ],
   "source": [
    "import xgboost\n",
    "xgb_reg = xgboost.XGBRegressor()\n",
    "xgb_reg.fit(X_train, y_train)\n",
    "xgb_reg_score = xgb_reg.score(X_test, y_test)\n",
    "xgb_reg_rmse = rmse(y_test, xgb_reg.predict(X_test))\n",
    "xgb_reg_score, xgb_reg_rmse"
   ]
  },
  {
   "cell_type": "code",
   "execution_count": 15,
   "id": "d0f55b00",
   "metadata": {},
   "outputs": [
    {
     "name": "stdout",
     "output_type": "stream",
     "text": [
      "                    Model     Score        RMSE\n",
      "0       Linear Regression  0.791816   64.676295\n",
      "1                   Lasso  0.803876   62.775051\n",
      "2  Support Vector Machine  0.216102  125.502232\n",
      "3           Random Forest  0.888132   47.410525\n",
      "4                 XGBoost  0.874296   50.256881\n"
     ]
    }
   ],
   "source": [
    "print(pd.DataFrame([{'Model': 'Linear Regression','Score': lr_score, \"RMSE\":lr_rmse},\n",
    "                   {'Model': 'Lasso', 'Score': lr_lasso_score, \"RMSE\": lr_lasso_rmse},\n",
    "                    {'Model':'Support Vector Machine','Score':svr_score, \"RMSE\":svr_rmse},\n",
    "                    {'Model':'Random Forest','Score':rfr_score, \"RMSE\":rfr_rmse},\n",
    "                    {'Model':'XGBoost','Score':xgb_reg_score, \"RMSE\":xgb_reg_rmse}\n",
    "                   ],\n",
    "                  columns=['Model','Score','RMSE']))"
   ]
  },
  {
   "cell_type": "markdown",
   "id": "faad63b7",
   "metadata": {},
   "source": [
    "### Cross Validation"
   ]
  },
  {
   "cell_type": "code",
   "execution_count": 16,
   "id": "082b532a",
   "metadata": {},
   "outputs": [
    {
     "data": {
      "text/plain": [
       "(array([0.98490739, 0.97045611, 0.99629293, 0.97237394, 0.96982053,\n",
       "        0.98805319, 0.971068  , 0.88372362, 0.98899998, 0.91387018]),\n",
       " 0.9639565854902301)"
      ]
     },
     "execution_count": 16,
     "metadata": {},
     "output_type": "execute_result"
    }
   ],
   "source": [
    "from sklearn.model_selection import KFold, cross_val_score\n",
    "cvs = cross_val_score(xgb_reg, X_train, y_train, cv=10)\n",
    "cvs, cvs.mean()"
   ]
  },
  {
   "cell_type": "code",
   "execution_count": 17,
   "id": "d374aa26",
   "metadata": {},
   "outputs": [
    {
     "data": {
      "text/plain": [
       "(array([0.99459353, 0.96291064, 0.99754348, 0.94857855, 0.96476818,\n",
       "        0.90289066, 0.92460034, 0.91070892, 0.99638751, 0.98672899]),\n",
       " 0.9589710799016272)"
      ]
     },
     "execution_count": 17,
     "metadata": {},
     "output_type": "execute_result"
    }
   ],
   "source": [
    "cvs_rfr = cross_val_score(rfr, X_train, y_train, cv = 10)\n",
    "cvs_rfr, cvs_rfr.mean()"
   ]
  },
  {
   "cell_type": "markdown",
   "id": "5e6bc286",
   "metadata": {},
   "source": [
    "### Random Forest has the highest accuracy, lowest RMSE and difference between cross validation is also less (as compared to others)"
   ]
  },
  {
   "cell_type": "markdown",
   "id": "86c6e591",
   "metadata": {},
   "source": [
    "### Save model and Load model"
   ]
  },
  {
   "cell_type": "code",
   "execution_count": 18,
   "id": "78d9f009",
   "metadata": {},
   "outputs": [
    {
     "data": {
      "text/plain": [
       "['Bengaluru_House_Price_Prediction_rfr_model.pkl']"
      ]
     },
     "execution_count": 18,
     "metadata": {},
     "output_type": "execute_result"
    }
   ],
   "source": [
    "import joblib\n",
    "# Save model\n",
    "joblib.dump(rfr, \"Bengaluru_House_Price_Prediction_rfr_model.pkl\")"
   ]
  },
  {
   "cell_type": "code",
   "execution_count": 19,
   "id": "791036d8",
   "metadata": {},
   "outputs": [],
   "source": [
    "# Load model\n",
    "bengaluru_house_price_prediction_model = joblib.load(\"Bengaluru_House_Price_Prediction_rfr_model.pkl\")"
   ]
  }
 ],
 "metadata": {
  "kernelspec": {
   "display_name": "Python 3 (ipykernel)",
   "language": "python",
   "name": "python3"
  },
  "language_info": {
   "codemirror_mode": {
    "name": "ipython",
    "version": 3
   },
   "file_extension": ".py",
   "mimetype": "text/x-python",
   "name": "python",
   "nbconvert_exporter": "python",
   "pygments_lexer": "ipython3",
   "version": "3.10.11"
  }
 },
 "nbformat": 4,
 "nbformat_minor": 5
}
