{
 "cells": [
  {
   "cell_type": "code",
   "execution_count": 1,
   "id": "8649fcc9",
   "metadata": {},
   "outputs": [],
   "source": [
    "import joblib\n",
    "import numpy as np\n",
    "from sklearn.preprocessing import LabelEncoder"
   ]
  },
  {
   "cell_type": "code",
   "execution_count": 2,
   "id": "efcedf5a",
   "metadata": {},
   "outputs": [],
   "source": [
    "# Load the pre-trained model\n",
    "bengaluru_house_price_prediction_model = joblib.load(\"Bengaluru_House_Price_Prediction_rfr_model.pkl\")"
   ]
  },
  {
   "cell_type": "code",
   "execution_count": 3,
   "id": "b236842c",
   "metadata": {},
   "outputs": [],
   "source": [
    "# Sample data for prediction (replace with actual features)\n",
    "# Example: [area, bedrooms, location, bathrooms, balcony, floor, age_of_property, parking]\n",
    "\n",
    "sample_data = [\n",
    "    [1200, 3, 'Whitefield', 2, 1, 2, 5, 1],    # Sample 1\n",
    "    [1500, 4, 'Koramangala', 3, 1, 3, 10, 2],  #Sample 2\n",
    "    [1000, 2, 'Indiranagar', 1, 0, 1, 8, 1]    # Sample 3\n",
    "]"
   ]
  },
  {
   "cell_type": "code",
   "execution_count": 4,
   "id": "f63393c2",
   "metadata": {},
   "outputs": [],
   "source": [
    "# Prepare the label encoder for the location feature\n",
    "location_encoder = LabelEncoder()\n",
    "\n",
    "# Fit the encoder with the locations seen in the training data.\n",
    "# Replace with the list of locations that were seen during training\n",
    "location_encoder.fit(['Whitefield','Koramangala','Indiranagar','Banaswadi','Electronic City'])\n",
    "\n",
    "# Encode the location feature in sample data\n",
    "for i in range (len(sample_data)):\n",
    "    sample_data[i][2] = location_encoder.transform([sample_data[i][2]])[0]  # Encode location as numerical value\n"
   ]
  },
  {
   "cell_type": "code",
   "execution_count": 5,
   "id": "4e5550dd",
   "metadata": {},
   "outputs": [],
   "source": [
    "# Convert the sample data to a numpy array\n",
    "sample_data = np.array(sample_data)"
   ]
  },
  {
   "cell_type": "code",
   "execution_count": 6,
   "id": "acf0be97",
   "metadata": {},
   "outputs": [],
   "source": [
    "# Ensure that the sample data has the same number of features as the training data (107 features)\n",
    "if sample_data.shape[1] < 107:\n",
    "    # Add columns with default values (e.g., zeros) to match the number of features\n",
    "    sample_data = np.hstack([sample_data, np.zeros((sample_data.shape[0], 107 - sample_data.shape[1]))])"
   ]
  },
  {
   "cell_type": "code",
   "execution_count": 7,
   "id": "3411cbad",
   "metadata": {},
   "outputs": [],
   "source": [
    "# Predict house prices for the given sample data\n",
    "predicted_prices = bengaluru_house_price_prediction_model.predict(sample_data)"
   ]
  },
  {
   "cell_type": "code",
   "execution_count": 8,
   "id": "c64db08d",
   "metadata": {},
   "outputs": [
    {
     "name": "stdout",
     "output_type": "stream",
     "text": [
      "Predicted price for house 1: Rs.369.88\n",
      "Predicted price for house 2: Rs.318.05\n",
      "Predicted price for house 3: Rs.178.10\n"
     ]
    }
   ],
   "source": [
    "# Print the predicted prices\n",
    "for i, price in enumerate(predicted_prices):\n",
    "    print(f\"Predicted price for house {i+1}: Rs.{price:.2f}\")"
   ]
  },
  {
   "cell_type": "code",
   "execution_count": 9,
   "id": "ebdd9055",
   "metadata": {},
   "outputs": [
    {
     "name": "stdout",
     "output_type": "stream",
     "text": [
      "Predicted price for house 1: Rs.369.88\n",
      "Predicted price for house 2: Rs.318.05\n",
      "Predicted price for house 3: Rs.178.10\n",
      "Predicted price for house 4: Rs.123.76\n",
      "Predicted price for house 5: Rs.133.29\n",
      "Predicted price for house 6: Rs.503.66\n",
      "Predicted price for house 7: Rs.317.54\n",
      "Predicted price for house 8: Rs.352.74\n"
     ]
    }
   ],
   "source": [
    "import joblib \n",
    "import numpy as np \n",
    "from sklearn.preprocessing import LabelEncoder\n",
    "\n",
    "# Load the pre-trained model \n",
    "bengaluru_house_price_prediction_model = joblib.load(\"Bengaluru_House_Price_Prediction_rfr_model.pkl\")\n",
    "\n",
    "# Sample data for prediction (replace with actual features)\n",
    "# Example: [area, bedrooms, location, bathrooms, balcony, floor, age_of_property, parking]\n",
    "\n",
    "sample_data = [\n",
    "    [1200, 3, 'Whitefield', 2, 1, 2, 5, 1],     #Sample 1: A 3BHK in Whitefield\n",
    "    [1500, 4, 'Koramangala', 3, 1, 3, 10, 2],   #Sample 2: A 4BHK in Koramangala\n",
    "    [1000, 2, 'Indiranagar', 1, 0, 1, 8, 1],    #Sample 3: A 2BHK in Indiranagar\n",
    "    [1800, 3, 'Banaswadi', 2, 1, 1, 12, 2],     #Sample 4: A 3BHK in Banaswadi\n",
    "    [1100, 2, 'Electronic City', 1, 0, 2, 5, 1],#Sample 5: A 2BHK in Electronic City\n",
    "    [2000, 5, 'Whitefield', 4, 2, 3, 15, 3],    #Sample 6: A 5BHK in Whitefield\n",
    "    [850, 1, 'Koramangala', 1, 1, 1, 4, 1],     #Sample 7: A 1BHK in Koramangala\n",
    "    [2500, 4, 'Indiranagar', 3, 2, 2, 20, 2]    #Sample 8: A 4BHK in Indiranagar\n",
    "]\n",
    "\n",
    "# Prepare the label encoder for the location feature\n",
    "location_encoder = LabelEncoder()\n",
    "\n",
    "# Fit the encoder with the locations seen in the training data.\n",
    "# Replace with the list of locations that were seen during training\n",
    "location_encoder.fit(['Whitefield','Koramangala','Indiranagar','Banaswadi','Electronic City'])\n",
    "\n",
    "# Encode the location feature in sample data\n",
    "for i in range (len(sample_data)):\n",
    "    sample_data[i][2] = location_encoder.transform([sample_data[i][2]])[0]  # Encode location as numerical value\n",
    "\n",
    "# Convert the sample data to a numpy array\n",
    "sample_data = np.array(sample_data)\n",
    "\n",
    "# Ensure that the sample data has the same number of features as the training data (107 features)\n",
    "if sample_data.shape[1] < 107:\n",
    "    # Add columns with default values (e.g., zeros) to match the number of features\n",
    "    sample_data = np.hstack([sample_data, np.zeros((sample_data.shape[0], 107 - sample_data.shape[1]))])\n",
    "    \n",
    "# Predict house prices for the given sample data\n",
    "predicted_prices = bengaluru_house_price_prediction_model.predict(sample_data)\n",
    "\n",
    "# Print the predicted prices\n",
    "for i, price in enumerate(predicted_prices):\n",
    "    print(f\"Predicted price for house {i+1}: Rs.{price:.2f}\")"
   ]
  }
 ],
 "metadata": {
  "kernelspec": {
   "display_name": "Python 3 (ipykernel)",
   "language": "python",
   "name": "python3"
  },
  "language_info": {
   "codemirror_mode": {
    "name": "ipython",
    "version": 3
   },
   "file_extension": ".py",
   "mimetype": "text/x-python",
   "name": "python",
   "nbconvert_exporter": "python",
   "pygments_lexer": "ipython3",
   "version": "3.11.5"
  }
 },
 "nbformat": 4,
 "nbformat_minor": 5
}
